{
 "cells": [
  {
   "cell_type": "markdown",
   "metadata": {},
   "source": [
    "# Classification Models\n",
    "The objective of this noteboook is to build and evaluate classification models to predict customer churn given information from customers of a telephone company (`data.csv`)."
   ]
  },
  {
   "cell_type": "markdown",
   "metadata": {},
   "source": [
    "### Part 1: Decision Trees"
   ]
  },
  {
   "cell_type": "code",
   "execution_count": 1,
   "metadata": {},
   "outputs": [
    {
     "name": "stderr",
     "output_type": "stream",
     "text": [
      "Matplotlib is building the font cache; this may take a moment.\n"
     ]
    }
   ],
   "source": [
    "# Load libraries\n",
    "import pandas as pd\n",
    "import matplotlib.pyplot as plt\n",
    "import seaborn as sns\n",
    "from sklearn.model_selection import train_test_split\n",
    "from sklearn.preprocessing import StandardScaler  \n",
    "from sklearn.tree import DecisionTreeClassifier\n",
    "from sklearn.neighbors import KNeighborsClassifier \n",
    "from sklearn.naive_bayes import GaussianNB\n",
    "from sklearn.svm import SVC\n",
    "from sklearn import metrics"
   ]
  },
  {
   "cell_type": "code",
   "execution_count": 2,
   "metadata": {},
   "outputs": [
    {
     "data": {
      "text/html": [
       "<div>\n",
       "<style scoped>\n",
       "    .dataframe tbody tr th:only-of-type {\n",
       "        vertical-align: middle;\n",
       "    }\n",
       "\n",
       "    .dataframe tbody tr th {\n",
       "        vertical-align: top;\n",
       "    }\n",
       "\n",
       "    .dataframe thead th {\n",
       "        text-align: right;\n",
       "    }\n",
       "</style>\n",
       "<table border=\"1\" class=\"dataframe\">\n",
       "  <thead>\n",
       "    <tr style=\"text-align: right;\">\n",
       "      <th></th>\n",
       "      <th>Account length</th>\n",
       "      <th>International plan</th>\n",
       "      <th>Voice mail plan</th>\n",
       "      <th>Number voice mail messages</th>\n",
       "      <th>Total day minutes</th>\n",
       "      <th>Total day calls</th>\n",
       "      <th>Total day charge</th>\n",
       "      <th>Total eve minutes</th>\n",
       "      <th>Total eve calls</th>\n",
       "      <th>Total eve charge</th>\n",
       "      <th>Total night minutes</th>\n",
       "      <th>Total night calls</th>\n",
       "      <th>Total night charge</th>\n",
       "      <th>Total intl minutes</th>\n",
       "      <th>Total intl calls</th>\n",
       "      <th>Total intl charge</th>\n",
       "      <th>Customer service calls</th>\n",
       "      <th>Churn</th>\n",
       "    </tr>\n",
       "  </thead>\n",
       "  <tbody>\n",
       "    <tr>\n",
       "      <th>0</th>\n",
       "      <td>128</td>\n",
       "      <td>0</td>\n",
       "      <td>1</td>\n",
       "      <td>25</td>\n",
       "      <td>265.1</td>\n",
       "      <td>110</td>\n",
       "      <td>45.07</td>\n",
       "      <td>197.4</td>\n",
       "      <td>99</td>\n",
       "      <td>16.78</td>\n",
       "      <td>244.7</td>\n",
       "      <td>91</td>\n",
       "      <td>11.01</td>\n",
       "      <td>10.0</td>\n",
       "      <td>3</td>\n",
       "      <td>2.70</td>\n",
       "      <td>1</td>\n",
       "      <td>0</td>\n",
       "    </tr>\n",
       "    <tr>\n",
       "      <th>1</th>\n",
       "      <td>107</td>\n",
       "      <td>0</td>\n",
       "      <td>1</td>\n",
       "      <td>26</td>\n",
       "      <td>161.6</td>\n",
       "      <td>123</td>\n",
       "      <td>27.47</td>\n",
       "      <td>195.5</td>\n",
       "      <td>103</td>\n",
       "      <td>16.62</td>\n",
       "      <td>254.4</td>\n",
       "      <td>103</td>\n",
       "      <td>11.45</td>\n",
       "      <td>13.7</td>\n",
       "      <td>3</td>\n",
       "      <td>3.70</td>\n",
       "      <td>1</td>\n",
       "      <td>0</td>\n",
       "    </tr>\n",
       "    <tr>\n",
       "      <th>2</th>\n",
       "      <td>137</td>\n",
       "      <td>0</td>\n",
       "      <td>0</td>\n",
       "      <td>0</td>\n",
       "      <td>243.4</td>\n",
       "      <td>114</td>\n",
       "      <td>41.38</td>\n",
       "      <td>121.2</td>\n",
       "      <td>110</td>\n",
       "      <td>10.30</td>\n",
       "      <td>162.6</td>\n",
       "      <td>104</td>\n",
       "      <td>7.32</td>\n",
       "      <td>12.2</td>\n",
       "      <td>5</td>\n",
       "      <td>3.29</td>\n",
       "      <td>0</td>\n",
       "      <td>0</td>\n",
       "    </tr>\n",
       "    <tr>\n",
       "      <th>3</th>\n",
       "      <td>84</td>\n",
       "      <td>1</td>\n",
       "      <td>0</td>\n",
       "      <td>0</td>\n",
       "      <td>299.4</td>\n",
       "      <td>71</td>\n",
       "      <td>50.90</td>\n",
       "      <td>61.9</td>\n",
       "      <td>88</td>\n",
       "      <td>5.26</td>\n",
       "      <td>196.9</td>\n",
       "      <td>89</td>\n",
       "      <td>8.86</td>\n",
       "      <td>6.6</td>\n",
       "      <td>7</td>\n",
       "      <td>1.78</td>\n",
       "      <td>2</td>\n",
       "      <td>0</td>\n",
       "    </tr>\n",
       "    <tr>\n",
       "      <th>4</th>\n",
       "      <td>75</td>\n",
       "      <td>1</td>\n",
       "      <td>0</td>\n",
       "      <td>0</td>\n",
       "      <td>166.7</td>\n",
       "      <td>113</td>\n",
       "      <td>28.34</td>\n",
       "      <td>148.3</td>\n",
       "      <td>122</td>\n",
       "      <td>12.61</td>\n",
       "      <td>186.9</td>\n",
       "      <td>121</td>\n",
       "      <td>8.41</td>\n",
       "      <td>10.1</td>\n",
       "      <td>3</td>\n",
       "      <td>2.73</td>\n",
       "      <td>3</td>\n",
       "      <td>0</td>\n",
       "    </tr>\n",
       "  </tbody>\n",
       "</table>\n",
       "</div>"
      ],
      "text/plain": [
       "   Account length  International plan  Voice mail plan  \\\n",
       "0             128                   0                1   \n",
       "1             107                   0                1   \n",
       "2             137                   0                0   \n",
       "3              84                   1                0   \n",
       "4              75                   1                0   \n",
       "\n",
       "   Number voice mail messages  Total day minutes  Total day calls  \\\n",
       "0                          25              265.1              110   \n",
       "1                          26              161.6              123   \n",
       "2                           0              243.4              114   \n",
       "3                           0              299.4               71   \n",
       "4                           0              166.7              113   \n",
       "\n",
       "   Total day charge  Total eve minutes  Total eve calls  Total eve charge  \\\n",
       "0             45.07              197.4               99             16.78   \n",
       "1             27.47              195.5              103             16.62   \n",
       "2             41.38              121.2              110             10.30   \n",
       "3             50.90               61.9               88              5.26   \n",
       "4             28.34              148.3              122             12.61   \n",
       "\n",
       "   Total night minutes  Total night calls  Total night charge  \\\n",
       "0                244.7                 91               11.01   \n",
       "1                254.4                103               11.45   \n",
       "2                162.6                104                7.32   \n",
       "3                196.9                 89                8.86   \n",
       "4                186.9                121                8.41   \n",
       "\n",
       "   Total intl minutes  Total intl calls  Total intl charge  \\\n",
       "0                10.0                 3               2.70   \n",
       "1                13.7                 3               3.70   \n",
       "2                12.2                 5               3.29   \n",
       "3                 6.6                 7               1.78   \n",
       "4                10.1                 3               2.73   \n",
       "\n",
       "   Customer service calls  Churn  \n",
       "0                       1      0  \n",
       "1                       1      0  \n",
       "2                       0      0  \n",
       "3                       2      0  \n",
       "4                       3      0  "
      ]
     },
     "execution_count": 2,
     "metadata": {},
     "output_type": "execute_result"
    }
   ],
   "source": [
    "# Load dataset and display the first five rows\n",
    "data = pd.read_csv('data.csv')\n",
    "data.head()"
   ]
  },
  {
   "cell_type": "markdown",
   "metadata": {},
   "source": [
    "**Task 01 (of 14): Partition the dataset into training set and test set using the `train_test_split` method.\n",
    "Use 75% of the data for training and 25% for testing and set parameter `random_state` to 0.**"
   ]
  },
  {
   "cell_type": "code",
   "execution_count": 3,
   "metadata": {},
   "outputs": [],
   "source": [
    "x_train, x_test, y_train, y_test = train_test_split(data.iloc[:,:-1],data[\"Churn\"],test_size = 0.25, random_state = 0)"
   ]
  },
  {
   "cell_type": "code",
   "execution_count": 4,
   "metadata": {},
   "outputs": [
    {
     "name": "stdout",
     "output_type": "stream",
     "text": [
      "(2499, 17)\n",
      "(834, 17)\n"
     ]
    }
   ],
   "source": [
    "# Show the dimensionality of the training set and the test set\n",
    "# The training set should have 2499 observations and the test set should have 834 observations\n",
    "print(x_train.shape)\n",
    "print(x_test.shape)"
   ]
  },
  {
   "cell_type": "markdown",
   "metadata": {},
   "source": [
    "**Task 02 (of 14): Standardize the training set and test set.**\n",
    "_Hint:_ Compute the mean and standard deviation using only the training set to avoid introducing bias and then apply this transformation on the training set and test set."
   ]
  },
  {
   "cell_type": "code",
   "execution_count": 5,
   "metadata": {},
   "outputs": [],
   "source": [
    "scaler = StandardScaler()\n",
    "scaler.fit(x_train)\n",
    "x_train_scaled = scaler.transform(x_train)\n",
    "x_test_scaled = scaler.transform(x_test)"
   ]
  },
  {
   "cell_type": "markdown",
   "metadata": {},
   "source": [
    "**Task 03 (of 14): Build a decision tree classifier to classify customers as churnend/non-churned.\n",
    "Use entropy as the split criterion and set parameter `random_state` to 0.**"
   ]
  },
  {
   "cell_type": "code",
   "execution_count": 6,
   "metadata": {},
   "outputs": [
    {
     "data": {
      "text/plain": [
       "DecisionTreeClassifier(ccp_alpha=0.0, class_weight=None, criterion='entropy',\n",
       "                       max_depth=None, max_features=None, max_leaf_nodes=None,\n",
       "                       min_impurity_decrease=0.0, min_impurity_split=None,\n",
       "                       min_samples_leaf=1, min_samples_split=2,\n",
       "                       min_weight_fraction_leaf=0.0, presort='deprecated',\n",
       "                       random_state=0, splitter='best')"
      ]
     },
     "execution_count": 6,
     "metadata": {},
     "output_type": "execute_result"
    }
   ],
   "source": [
    "classifier = DecisionTreeClassifier(criterion=\"entropy\",random_state=0)\n",
    "classifier.fit(x_train_scaled,y_train)"
   ]
  },
  {
   "cell_type": "code",
   "execution_count": 7,
   "metadata": {
    "scrolled": false
   },
   "outputs": [
    {
     "name": "stdout",
     "output_type": "stream",
     "text": [
      "[(  1, 238,  4,  1.37790751e+00, 0.60293799, 2499, 2.499e+03)\n",
      " (  2, 199, 16,  1.47932547e+00, 0.4991475 , 2278, 2.278e+03)\n",
      " (  3, 186,  1,  1.39084876e+00, 0.37934172, 2105, 2.105e+03)\n",
      " (  4, 135,  6,  7.91448623e-01, 0.26832186, 1921, 1.921e+03)\n",
      " (  5,   6, 12, -1.40246254e+00, 0.1779243 , 1681, 1.681e+03)\n",
      " ( -1,  -1, -2, -2.00000000e+00, 0.        ,  124, 1.240e+02)\n",
      " (  7,   8, 10, -1.40125614e+00, 0.18885385, 1557, 1.557e+03)\n",
      " ( -1,  -1, -2, -2.00000000e+00, 0.        ,    1, 1.000e+00)\n",
      " (  9,  26,  7, -6.43222064e-01, 0.18567934, 1556, 1.556e+03)\n",
      " ( 10,  25, 13,  3.73752005e-02, 0.09482908,  411, 4.110e+02)\n",
      " ( 11,  22, 13,  1.76009070e-03, 0.16417121,  207, 2.070e+02)\n",
      " ( 12,  17,  3,  1.93759680e+00, 0.11102003,  203, 2.030e+02)\n",
      " ( 13,  16,  0, -1.88109082e+00, 0.04741446,  190, 1.900e+02)\n",
      " ( 14,  15,  5, -1.34136140e+00, 0.72192809,    5, 5.000e+00)\n",
      " ( -1,  -1, -2, -2.00000000e+00, 0.        ,    1, 1.000e+00)\n",
      " ( -1,  -1, -2, -2.00000000e+00, 0.        ,    4, 4.000e+00)\n",
      " ( -1,  -1, -2, -2.00000000e+00, 0.        ,  185, 1.850e+02)\n",
      " ( 18,  19,  0,  9.24853444e-01, 0.61938219,   13, 1.300e+01)\n",
      " ( -1,  -1, -2, -2.00000000e+00, 0.        ,    9, 9.000e+00)\n",
      " ( 20,  21,  7, -1.54412925e+00, 1.        ,    4, 4.000e+00)\n",
      " ( -1,  -1, -2, -2.00000000e+00, 0.        ,    2, 2.000e+00)\n",
      " ( -1,  -1, -2, -2.00000000e+00, 0.        ,    2, 2.000e+00)\n",
      " ( 23,  24,  7, -1.24317545e+00, 1.        ,    4, 4.000e+00)\n",
      " ( -1,  -1, -2, -2.00000000e+00, 0.        ,    2, 2.000e+00)\n",
      " ( -1,  -1, -2, -2.00000000e+00, 0.        ,    2, 2.000e+00)\n",
      " ( -1,  -1, -2, -2.00000000e+00, 0.        ,  204, 2.040e+02)\n",
      " ( 27,  92, 11,  7.33808935e-01, 0.21436617, 1145, 1.145e+03)\n",
      " ( 28,  29, 13, -7.10542113e-01, 0.17017729,  870, 8.700e+02)\n",
      " ( -1,  -1, -2, -2.00000000e+00, 0.        ,  197, 1.970e+02)\n",
      " ( 30,  45,  0, -1.02322608e-01, 0.20770499,  673, 6.730e+02)\n",
      " ( 31,  32, 12,  6.40130222e-01, 0.11670201,  318, 3.180e+02)\n",
      " ( -1,  -1, -2, -2.00000000e+00, 0.        ,  214, 2.140e+02)\n",
      " ( 33,  34, 10,  6.54101759e-01, 0.27817101,  104, 1.040e+02)\n",
      " ( -1,  -1, -2, -2.00000000e+00, 0.        ,    1, 1.000e+00)\n",
      " ( 35,  40,  8,  8.06315780e-01, 0.23692475,  103, 1.030e+02)\n",
      " ( 36,  37,  5,  2.11814457e+00, 0.09227725,   85, 8.500e+01)\n",
      " ( -1,  -1, -2, -2.00000000e+00, 0.        ,   83, 8.300e+01)\n",
      " ( 38,  39,  5,  2.59102666e+00, 1.        ,    2, 2.000e+00)\n",
      " ( -1,  -1, -2, -2.00000000e+00, 0.        ,    1, 1.000e+00)\n",
      " ( -1,  -1, -2, -2.00000000e+00, 0.        ,    1, 1.000e+00)\n",
      " ( 41,  44,  5, -5.44928372e-01, 0.65002242,   18, 1.800e+01)\n",
      " ( 42,  43,  0, -4.15486038e-01, 0.97095059,    5, 5.000e+00)\n",
      " ( -1,  -1, -2, -2.00000000e+00, 0.        ,    3, 3.000e+00)\n",
      " ( -1,  -1, -2, -2.00000000e+00, 0.        ,    2, 2.000e+00)\n",
      " ( -1,  -1, -2, -2.00000000e+00, 0.        ,   13, 1.300e+01)\n",
      " ( 46,  53,  0, -2.11031316e-03, 0.27735376,  355, 3.550e+02)\n",
      " ( 47,  52,  7,  1.43707240e+00, 0.73828487,   24, 2.400e+01)\n",
      " ( 48,  49,  8,  1.59283437e-01, 0.5746357 ,   22, 2.200e+01)\n",
      " ( -1,  -1, -2, -2.00000000e+00, 0.        ,   15, 1.500e+01)\n",
      " ( 50,  51, 11, -4.60047260e-01, 0.98522814,    7, 7.000e+00)\n",
      " ( -1,  -1, -2, -2.00000000e+00, 0.        ,    4, 4.000e+00)\n",
      " ( -1,  -1, -2, -2.00000000e+00, 0.        ,    3, 3.000e+00)\n",
      " ( -1,  -1, -2, -2.00000000e+00, 0.        ,    2, 2.000e+00)\n",
      " ( 54,  75,  8, -6.37064070e-01, 0.22484398,  331, 3.310e+02)\n",
      " ( 55,  64,  0,  1.98314279e-01, 0.40707681,   86, 8.600e+01)\n",
      " ( 56,  59, 11, -5.10849640e-01, 0.83664074,   15, 1.500e+01)\n",
      " ( 57,  58,  4,  8.18777606e-02, 0.81127812,    4, 4.000e+00)\n",
      " ( -1,  -1, -2, -2.00000000e+00, 0.        ,    1, 1.000e+00)\n",
      " ( -1,  -1, -2, -2.00000000e+00, 0.        ,    3, 3.000e+00)\n",
      " ( 60,  63,  7, -5.43555543e-01, 0.43949699,   11, 1.100e+01)\n",
      " ( 61,  62,  7, -6.02182925e-01, 1.        ,    2, 2.000e+00)\n",
      " ( -1,  -1, -2, -2.00000000e+00, 0.        ,    1, 1.000e+00)\n",
      " ( -1,  -1, -2, -2.00000000e+00, 0.        ,    1, 1.000e+00)\n",
      " ( -1,  -1, -2, -2.00000000e+00, 0.        ,    9, 9.000e+00)\n",
      " ( 65,  70,  5,  1.02304912e+00, 0.25253077,   71, 7.100e+01)\n",
      " ( 66,  67,  4,  6.59936458e-01, 0.12741851,   57, 5.700e+01)\n",
      " ( -1,  -1, -2, -2.00000000e+00, 0.        ,   54, 5.400e+01)\n",
      " ( 68,  69,  0,  8.74747276e-01, 0.91829583,    3, 3.000e+00)\n",
      " ( -1,  -1, -2, -2.00000000e+00, 0.        ,    2, 2.000e+00)\n",
      " ( -1,  -1, -2, -2.00000000e+00, 0.        ,    1, 1.000e+00)\n",
      " ( 71,  74,  7,  2.71364868e-01, 0.59167278,   14, 1.400e+01)\n",
      " ( 72,  73,  7, -8.62620762e-02, 0.97095059,    5, 5.000e+00)\n",
      " ( -1,  -1, -2, -2.00000000e+00, 0.        ,    3, 3.000e+00)\n",
      " ( -1,  -1, -2, -2.00000000e+00, 0.        ,    2, 2.000e+00)\n",
      " ( -1,  -1, -2, -2.00000000e+00, 0.        ,    9, 9.000e+00)\n",
      " ( 76,  91,  0,  3.01678514e+00, 0.14372617,  245, 2.450e+02)\n",
      " ( 77,  78,  9, -6.27053618e-01, 0.12068101,  244, 2.440e+02)\n",
      " ( -1,  -1, -2, -2.00000000e+00, 0.        ,    1, 1.000e+00)\n",
      " ( 79,  90, 10, -6.68515153e-02, 0.0959704 ,  243, 2.430e+02)\n",
      " ( 80,  89, 12, -8.31054039e-02, 0.19143325,  102, 1.020e+02)\n",
      " ( 81,  82,  0,  6.99375778e-01, 0.14032727,  101, 1.010e+02)\n",
      " ( -1,  -1, -2, -2.00000000e+00, 0.        ,   57, 5.700e+01)\n",
      " ( 83,  88,  0,  7.49481887e-01, 0.26676499,   44, 4.400e+01)\n",
      " ( 84,  85, 14, -3.98192666e-01, 0.97095059,    5, 5.000e+00)\n",
      " ( -1,  -1, -2, -2.00000000e+00, 0.        ,    2, 2.000e+00)\n",
      " ( 86,  87, 10, -3.62728354e-01, 0.91829583,    3, 3.000e+00)\n",
      " ( -1,  -1, -2, -2.00000000e+00, 0.        ,    2, 2.000e+00)\n",
      " ( -1,  -1, -2, -2.00000000e+00, 0.        ,    1, 1.000e+00)\n",
      " ( -1,  -1, -2, -2.00000000e+00, 0.        ,   39, 3.900e+01)\n",
      " ( -1,  -1, -2, -2.00000000e+00, 0.        ,    1, 1.000e+00)\n",
      " ( -1,  -1, -2, -2.00000000e+00, 0.        ,  141, 1.410e+02)\n",
      " ( -1,  -1, -2, -2.00000000e+00, 0.        ,    1, 1.000e+00)\n",
      " ( 93, 116, 10,  7.37933517e-01, 0.33462053,  275, 2.750e+02)\n",
      " ( 94, 109,  0,  1.28812295e+00, 0.2085566 ,  213, 2.130e+02)\n",
      " ( 95, 100,  3,  1.42354321e+00, 0.14431028,  195, 1.950e+02)\n",
      " ( 96,  97,  8,  1.25426126e+00, 0.05390791,  163, 1.630e+02)\n",
      " ( -1,  -1, -2, -2.00000000e+00, 0.        ,  146, 1.460e+02)\n",
      " ( 98,  99,  6, -1.03000554e+00, 0.32275696,   17, 1.700e+01)\n",
      " ( -1,  -1, -2, -2.00000000e+00, 0.        ,    1, 1.000e+00)\n",
      " ( -1,  -1, -2, -2.00000000e+00, 0.        ,   16, 1.600e+01)\n",
      " (101, 102,  8, -1.14461008e-01, 0.44886449,   32, 3.200e+01)\n",
      " ( -1,  -1, -2, -2.00000000e+00, 0.        ,   17, 1.700e+01)\n",
      " (103, 108,  5,  1.51950516e-01, 0.72192809,   15, 1.500e+01)\n",
      " (104, 107,  8,  1.00540265e+00, 0.954434  ,    8, 8.000e+00)\n",
      " (105, 106,  9,  9.76564109e-01, 0.81127812,    4, 4.000e+00)\n",
      " ( -1,  -1, -2, -2.00000000e+00, 0.        ,    3, 3.000e+00)\n",
      " ( -1,  -1, -2, -2.00000000e+00, 0.        ,    1, 1.000e+00)\n",
      " ( -1,  -1, -2, -2.00000000e+00, 0.        ,    4, 4.000e+00)\n",
      " ( -1,  -1, -2, -2.00000000e+00, 0.        ,    7, 7.000e+00)\n",
      " (110, 115, 10, -2.04974730e-02, 0.65002242,   18, 1.800e+01)\n",
      " (111, 114, 11,  1.26723403e+00, 0.98522814,    7, 7.000e+00)\n",
      " (112, 113,  7, -8.52849483e-02, 0.72192809,    5, 5.000e+00)\n",
      " ( -1,  -1, -2, -2.00000000e+00, 0.        ,    1, 1.000e+00)\n",
      " ( -1,  -1, -2, -2.00000000e+00, 0.        ,    4, 4.000e+00)\n",
      " ( -1,  -1, -2, -2.00000000e+00, 0.        ,    2, 2.000e+00)\n",
      " ( -1,  -1, -2, -2.00000000e+00, 0.        ,   11, 1.100e+01)\n",
      " (117, 134, 11,  1.49584478e+00, 0.6373875 ,   62, 6.200e+01)\n",
      " (118, 121,  7, -4.18483824e-01, 0.81127812,   40, 4.000e+01)\n",
      " (119, 120, 16,  3.37504923e-01, 0.72192809,    5, 5.000e+00)\n",
      " ( -1,  -1, -2, -2.00000000e+00, 0.        ,    4, 4.000e+00)\n",
      " ( -1,  -1, -2, -2.00000000e+00, 0.        ,    1, 1.000e+00)\n",
      " (122, 133,  7,  1.99012387e+00, 0.66096234,   35, 3.500e+01)\n",
      " (123, 126, 10,  8.52339238e-01, 0.53283506,   33, 3.300e+01)\n",
      " (124, 125, 15,  3.93572517e-01, 0.91829583,    3, 3.000e+00)\n",
      " ( -1,  -1, -2, -2.00000000e+00, 0.        ,    1, 1.000e+00)\n",
      " ( -1,  -1, -2, -2.00000000e+00, 0.        ,    2, 2.000e+00)\n",
      " (127, 132,  5, -1.71600401e-01, 0.35335934,   30, 3.000e+01)\n",
      " (128, 129,  5, -4.95151341e-01, 0.65002242,   12, 1.200e+01)\n",
      " ( -1,  -1, -2, -2.00000000e+00, 0.        ,    8, 8.000e+00)\n",
      " (130, 131,  4, -1.53764002e-01, 1.        ,    4, 4.000e+00)\n",
      " ( -1,  -1, -2, -2.00000000e+00, 0.        ,    2, 2.000e+00)\n",
      " ( -1,  -1, -2, -2.00000000e+00, 0.        ,    2, 2.000e+00)\n",
      " ( -1,  -1, -2, -2.00000000e+00, 0.        ,   18, 1.800e+01)\n",
      " ( -1,  -1, -2, -2.00000000e+00, 0.        ,    2, 2.000e+00)\n",
      " ( -1,  -1, -2, -2.00000000e+00, 0.        ,   22, 2.200e+01)\n",
      " (136, 177,  9,  1.13635111e+00, 0.67825063,  240, 2.400e+02)\n",
      " (137, 172,  7,  8.43958825e-01, 0.41666476,  202, 2.020e+02)\n",
      " (138, 171,  5,  4.50612903e-01, 0.34918437,  183, 1.830e+02)\n",
      " (139, 140,  4,  7.96166897e-01, 0.44412605,  130, 1.300e+02)\n",
      " ( -1,  -1, -2, -2.00000000e+00, 0.        ,    1, 1.000e+00)\n",
      " (141, 142,  0, -2.01888275e+00, 0.42048596,  129, 1.290e+02)\n",
      " ( -1,  -1, -2, -2.00000000e+00, 0.        ,    1, 1.000e+00)\n",
      " (143, 170,  0,  9.74959582e-01, 0.39553781,  128, 1.280e+02)\n",
      " (144, 167,  5,  4.00835827e-01, 0.45969421,  103, 1.030e+02)\n",
      " (145, 146, 15, -1.01130235e+00, 0.40502013,   99, 9.900e+01)\n",
      " ( -1,  -1, -2, -2.00000000e+00, 0.        ,   18, 1.800e+01)\n",
      " (147, 148,  0, -1.90614390e+00, 0.46506984,   81, 8.100e+01)\n",
      " ( -1,  -1, -2, -2.00000000e+00, 0.        ,    1, 1.000e+00)\n",
      " (149, 166, 15,  4.99103040e-01, 0.42806963,   80, 8.000e+01)\n",
      " (150, 163, 13,  3.93526301e-01, 0.59167278,   49, 4.900e+01)\n",
      " (151, 152, 10, -1.39632481e+00, 0.49596907,   46, 4.600e+01)\n",
      " ( -1,  -1, -2, -2.00000000e+00, 0.        ,    1, 1.000e+00)\n",
      " (153, 154, 12, -2.38710649e-01, 0.43275016,   45, 4.500e+01)\n",
      " ( -1,  -1, -2, -2.00000000e+00, 0.        ,   17, 1.700e+01)\n",
      " (155, 156, 12, -1.99261434e-01, 0.59167278,   28, 2.800e+01)\n",
      " ( -1,  -1, -2, -2.00000000e+00, 0.        ,    1, 1.000e+00)\n",
      " (157, 158,  7, -4.13598210e-01, 0.50325833,   27, 2.700e+01)\n",
      " ( -1,  -1, -2, -2.00000000e+00, 0.        ,   15, 1.500e+01)\n",
      " (159, 162, 10,  1.08706820e+00, 0.81127812,   12, 1.200e+01)\n",
      " (160, 161, 11,  1.03862327e+00, 0.46899559,   10, 1.000e+01)\n",
      " ( -1,  -1, -2, -2.00000000e+00, 0.        ,    9, 9.000e+00)\n",
      " ( -1,  -1, -2, -2.00000000e+00, 0.        ,    1, 1.000e+00)\n",
      " ( -1,  -1, -2, -2.00000000e+00, 0.        ,    2, 2.000e+00)\n",
      " (164, 165, 14,  1.64804107e+00, 0.91829583,    3, 3.000e+00)\n",
      " ( -1,  -1, -2, -2.00000000e+00, 0.        ,    2, 2.000e+00)\n",
      " ( -1,  -1, -2, -2.00000000e+00, 0.        ,    1, 1.000e+00)\n",
      " ( -1,  -1, -2, -2.00000000e+00, 0.        ,   31, 3.100e+01)\n",
      " (168, 169,  7, -7.43865728e-01, 1.        ,    4, 4.000e+00)\n",
      " ( -1,  -1, -2, -2.00000000e+00, 0.        ,    2, 2.000e+00)\n",
      " ( -1,  -1, -2, -2.00000000e+00, 0.        ,    2, 2.000e+00)\n",
      " ( -1,  -1, -2, -2.00000000e+00, 0.        ,   25, 2.500e+01)\n",
      " ( -1,  -1, -2, -2.00000000e+00, 0.        ,   53, 5.300e+01)\n",
      " (173, 174, 10,  6.82655824e-02, 0.83147439,   19, 1.900e+01)\n",
      " ( -1,  -1, -2, -2.00000000e+00, 0.        ,   10, 1.000e+01)\n",
      " (175, 176,  2,  4.90775019e-01, 0.99107606,    9, 9.000e+00)\n",
      " ( -1,  -1, -2, -2.00000000e+00, 0.        ,    5, 5.000e+00)\n",
      " ( -1,  -1, -2, -2.00000000e+00, 0.        ,    4, 4.000e+00)\n",
      " (178, 185,  3, -1.92053802e-01, 0.89974376,   38, 3.800e+01)\n",
      " (179, 184,  9,  1.31568044e+00, 0.56650951,   30, 3.000e+01)\n",
      " (180, 181,  7,  1.19572300e+00, 0.99107606,    9, 9.000e+00)\n",
      " ( -1,  -1, -2, -2.00000000e+00, 0.        ,    4, 4.000e+00)\n",
      " (182, 183,  5,  1.52081978e+00, 0.72192809,    5, 5.000e+00)\n",
      " ( -1,  -1, -2, -2.00000000e+00, 0.        ,    4, 4.000e+00)\n",
      " ( -1,  -1, -2, -2.00000000e+00, 0.        ,    1, 1.000e+00)\n",
      " ( -1,  -1, -2, -2.00000000e+00, 0.        ,   21, 2.100e+01)\n",
      " ( -1,  -1, -2, -2.00000000e+00, 0.        ,    8, 8.000e+00)\n",
      " (187, 188, 14, -8.07439417e-01, 0.94605843,  184, 1.840e+02)\n",
      " ( -1,  -1, -2, -2.00000000e+00, 0.        ,   36, 3.600e+01)\n",
      " (189, 198, 15,  1.01356426e+00, 0.74044825,  148, 1.480e+02)\n",
      " (190, 197,  7,  2.40833235e+00, 0.24678396,  122, 1.220e+02)\n",
      " (191, 194,  6,  1.32099146e+00, 0.16866093,  120, 1.200e+02)\n",
      " (192, 193, 10, -2.31255686e+00, 0.07099895,  117, 1.170e+02)\n",
      " ( -1,  -1, -2, -2.00000000e+00, 0.        ,    1, 1.000e+00)\n",
      " ( -1,  -1, -2, -2.00000000e+00, 0.        ,  116, 1.160e+02)\n",
      " (195, 196,  7, -1.56614915e-01, 0.91829583,    3, 3.000e+00)\n",
      " ( -1,  -1, -2, -2.00000000e+00, 0.        ,    1, 1.000e+00)\n",
      " ( -1,  -1, -2, -2.00000000e+00, 0.        ,    2, 2.000e+00)\n",
      " ( -1,  -1, -2, -2.00000000e+00, 0.        ,    2, 2.000e+00)\n",
      " ( -1,  -1, -2, -2.00000000e+00, 0.        ,   26, 2.600e+01)\n",
      " (200, 211,  6, -3.67264792e-01, 0.99302328,  173, 1.730e+02)\n",
      " (201, 206,  7,  6.19220585e-01, 0.37123233,   70, 7.000e+01)\n",
      " (202, 203,  8,  2.29946733e+00, 0.12741851,   57, 5.700e+01)\n",
      " ( -1,  -1, -2, -2.00000000e+00, 0.        ,   55, 5.500e+01)\n",
      " (204, 205,  8,  2.69764102e+00, 1.        ,    2, 2.000e+00)\n",
      " ( -1,  -1, -2, -2.00000000e+00, 0.        ,    1, 1.000e+00)\n",
      " ( -1,  -1, -2, -2.00000000e+00, 0.        ,    1, 1.000e+00)\n",
      " (207, 208,  4, -8.38597924e-01, 0.89049164,   13, 1.300e+01)\n",
      " ( -1,  -1, -2, -2.00000000e+00, 0.        ,    7, 7.000e+00)\n",
      " (209, 210, 15,  2.48468079e-01, 0.91829583,    6, 6.000e+00)\n",
      " ( -1,  -1, -2, -2.00000000e+00, 0.        ,    4, 4.000e+00)\n",
      " ( -1,  -1, -2, -2.00000000e+00, 0.        ,    2, 2.000e+00)\n",
      " (212, 217,  9, -8.99496198e-01, 0.87034605,  103, 1.030e+02)\n",
      " (213, 214,  0,  8.12114596e-01, 0.35335934,   15, 1.500e+01)\n",
      " ( -1,  -1, -2, -2.00000000e+00, 0.        ,   13, 1.300e+01)\n",
      " (215, 216,  2,  4.90775019e-01, 1.        ,    2, 2.000e+00)\n",
      " ( -1,  -1, -2, -2.00000000e+00, 0.        ,    1, 1.000e+00)\n",
      " ( -1,  -1, -2, -2.00000000e+00, 0.        ,    1, 1.000e+00)\n",
      " (218, 223,  6, -1.21444274e-01, 0.68403844,   88, 8.800e+01)\n",
      " (219, 222,  9,  2.02919155e-01, 0.99277445,   20, 2.000e+01)\n",
      " (220, 221,  4, -3.42461511e-01, 0.46899559,   10, 1.000e+01)\n",
      " ( -1,  -1, -2, -2.00000000e+00, 0.        ,    1, 1.000e+00)\n",
      " ( -1,  -1, -2, -2.00000000e+00, 0.        ,    9, 9.000e+00)\n",
      " ( -1,  -1, -2, -2.00000000e+00, 0.        ,   10, 1.000e+01)\n",
      " (224, 233,  1,  1.39084876e+00, 0.47825016,   68, 6.800e+01)\n",
      " (225, 226, 11,  4.03593391e-01, 0.21357982,   59, 5.900e+01)\n",
      " ( -1,  -1, -2, -2.00000000e+00, 0.        ,   42, 4.200e+01)\n",
      " (227, 232, 14, -3.98192666e-01, 0.52255937,   17, 1.700e+01)\n",
      " (228, 229,  9,  1.54638190e-01, 0.97095059,    5, 5.000e+00)\n",
      " ( -1,  -1, -2, -2.00000000e+00, 0.        ,    2, 2.000e+00)\n",
      " (230, 231, 10, -1.33616322e+00, 0.91829583,    3, 3.000e+00)\n",
      " ( -1,  -1, -2, -2.00000000e+00, 0.        ,    1, 1.000e+00)\n",
      " ( -1,  -1, -2, -2.00000000e+00, 0.        ,    2, 2.000e+00)\n",
      " ( -1,  -1, -2, -2.00000000e+00, 0.        ,   12, 1.200e+01)\n",
      " (234, 237,  7,  7.25726977e-01, 0.99107606,    9, 9.000e+00)\n",
      " (235, 236, 12,  1.42631780e-01, 0.72192809,    5, 5.000e+00)\n",
      " ( -1,  -1, -2, -2.00000000e+00, 0.        ,    1, 1.000e+00)\n",
      " ( -1,  -1, -2, -2.00000000e+00, 0.        ,    4, 4.000e+00)\n",
      " ( -1,  -1, -2, -2.00000000e+00, 0.        ,    4, 4.000e+00)\n",
      " (239, 274,  2,  4.90775019e-01, 0.99667435,  221, 2.210e+02)\n",
      " (240, 259,  7, -2.56804614e-02, 0.92594006,  170, 1.700e+02)\n",
      " (241, 258,  4,  2.41252208e+00, 0.97663491,   78, 7.800e+01)\n",
      " (242, 247, 12, -1.29129488e-01, 0.92752659,   70, 7.000e+01)\n",
      " (243, 244,  6,  1.90413839e+00, 0.36205125,   29, 2.900e+01)\n",
      " ( -1,  -1, -2, -2.00000000e+00, 0.        ,   24, 2.400e+01)\n",
      " (245, 246,  8, -5.62406461e-01, 0.97095059,    5, 5.000e+00)\n",
      " ( -1,  -1, -2, -2.00000000e+00, 0.        ,    2, 2.000e+00)\n",
      " ( -1,  -1, -2, -2.00000000e+00, 0.        ,    3, 3.000e+00)\n",
      " (248, 249,  9, -1.21562153e+00, 0.99613448,   41, 4.100e+01)\n",
      " ( -1,  -1, -2, -2.00000000e+00, 0.        ,    8, 8.000e+00)\n",
      " (250, 257,  6,  1.72329241e+00, 0.91829583,   33, 3.300e+01)\n",
      " (251, 256, 10,  1.57132000e+00, 0.99836367,   21, 2.100e+01)\n",
      " (252, 253,  7, -4.27277938e-01, 0.89603823,   16, 1.600e+01)\n",
      " ( -1,  -1, -2, -2.00000000e+00, 0.        ,    9, 9.000e+00)\n",
      " (254, 255,  8, -3.63319598e-01, 0.86312057,    7, 7.000e+00)\n",
      " ( -1,  -1, -2, -2.00000000e+00, 0.        ,    2, 2.000e+00)\n",
      " ( -1,  -1, -2, -2.00000000e+00, 0.        ,    5, 5.000e+00)\n",
      " ( -1,  -1, -2, -2.00000000e+00, 0.        ,    5, 5.000e+00)\n",
      " ( -1,  -1, -2, -2.00000000e+00, 0.        ,   12, 1.200e+01)\n",
      " ( -1,  -1, -2, -2.00000000e+00, 0.        ,    8, 8.000e+00)\n",
      " (260, 267, 12, -8.72089744e-01, 0.55862937,   92, 9.200e+01)\n",
      " (261, 266,  6,  1.78555971e+00, 0.99750255,   17, 1.700e+01)\n",
      " (262, 263, 14,  1.10540837e-02, 0.68403844,   11, 1.100e+01)\n",
      " ( -1,  -1, -2, -2.00000000e+00, 0.        ,    8, 8.000e+00)\n",
      " (264, 265,  5,  6.99498212e-01, 0.91829583,    3, 3.000e+00)\n",
      " ( -1,  -1, -2, -2.00000000e+00, 0.        ,    2, 2.000e+00)\n",
      " ( -1,  -1, -2, -2.00000000e+00, 0.        ,    1, 1.000e+00)\n",
      " ( -1,  -1, -2, -2.00000000e+00, 0.        ,    6, 6.000e+00)\n",
      " (268, 273,  4,  1.48468268e+00, 0.24229219,   75, 7.500e+01)\n",
      " (269, 272, 14, -8.07439417e-01, 0.81127812,   12, 1.200e+01)\n",
      " (270, 271, 10,  3.45403552e-01, 0.97095059,    5, 5.000e+00)\n",
      " ( -1,  -1, -2, -2.00000000e+00, 0.        ,    3, 3.000e+00)\n",
      " ( -1,  -1, -2, -2.00000000e+00, 0.        ,    2, 2.000e+00)\n",
      " ( -1,  -1, -2, -2.00000000e+00, 0.        ,    7, 7.000e+00)\n",
      " ( -1,  -1, -2, -2.00000000e+00, 0.        ,   63, 6.300e+01)\n",
      " (275, 278,  1,  1.39084876e+00, 0.52255937,   51, 5.100e+01)\n",
      " (276, 277,  6,  2.53980637e+00, 0.15935006,   43, 4.300e+01)\n",
      " ( -1,  -1, -2, -2.00000000e+00, 0.        ,   42, 4.200e+01)\n",
      " ( -1,  -1, -2, -2.00000000e+00, 0.        ,    1, 1.000e+00)\n",
      " (279, 282,  0, -3.96899208e-02, 0.954434  ,    8, 8.000e+00)\n",
      " (280, 281, 14, -8.07439417e-01, 0.81127812,    4, 4.000e+00)\n",
      " ( -1,  -1, -2, -2.00000000e+00, 0.        ,    1, 1.000e+00)\n",
      " ( -1,  -1, -2, -2.00000000e+00, 0.        ,    3, 3.000e+00)\n",
      " ( -1,  -1, -2, -2.00000000e+00, 0.        ,    4, 4.000e+00)]\n"
     ]
    },
    {
     "data": {
      "text/plain": [
       "283"
      ]
     },
     "execution_count": 7,
     "metadata": {},
     "output_type": "execute_result"
    }
   ],
   "source": [
    "# Show the structure of the decision tree classifier\n",
    "print(classifier.tree_.__getstate__()['nodes'])\n",
    "len(classifier.tree_.__getstate__()['nodes'])"
   ]
  },
  {
   "cell_type": "markdown",
   "metadata": {},
   "source": [
    "**Question 01 (of 06): How many nodes are in the tree? Which variable was selected to split the root node of the tree? What can you conclude from observing the structure of the tree?**\n",
    "\n",
    "**Answer:** `283` nodes were used to form the decision tree. The root node attribute is attribute `4` ie \"Total day minutes\" The data has 17 attributes but the tree has 283 nodes indicating that the tree has overfit on the data. It is a very complex tree."
   ]
  },
  {
   "cell_type": "markdown",
   "metadata": {},
   "source": [
    "**Task 04 (of 14): Predict the class labels for the test set using the decision tree classifier and plot the corresponding confusion matrix.**"
   ]
  },
  {
   "cell_type": "code",
   "execution_count": 8,
   "metadata": {},
   "outputs": [],
   "source": [
    "y_pred = classifier.predict(x_test_scaled)"
   ]
  },
  {
   "cell_type": "code",
   "execution_count": 9,
   "metadata": {},
   "outputs": [
    {
     "data": {
      "image/png": "[encoded data removed]",
      "text/plain": [
       "<Figure size 432x288 with 2 Axes>"
      ]
     },
     "metadata": {
      "needs_background": "light"
     },
     "output_type": "display_data"
    }
   ],
   "source": [
    "conf_matrix = metrics.confusion_matrix(y_test,y_pred)\n",
    "sns.heatmap(conf_matrix, annot = True, fmt = \".3f\", square = True, cmap = plt.cm.Blues)\n",
    "plt.ylabel('Actual')\n",
    "plt.xlabel('Predicted')\n",
    "plt.title('Confusion matrix')\n",
    "plt.tight_layout()"
   ]
  },
  {
   "cell_type": "markdown",
   "metadata": {},
   "source": [
    "**Task 05 (of 14): Compute evaluation metrics for the decision tree classifier.**"
   ]
  },
  {
   "cell_type": "code",
   "execution_count": 10,
   "metadata": {},
   "outputs": [
    {
     "name": "stdout",
     "output_type": "stream",
     "text": [
      "[0.9112709832134293, 0.08872901678657075, array([0.96536797, 0.64539007]), array([0.93045897, 0.79130435]), array([0.94759207, 0.7109375 ])]\n"
     ]
    }
   ],
   "source": [
    "accuracy = metrics.accuracy_score(y_test, y_pred)\n",
    "error = 1 - accuracy\n",
    "precision = metrics.precision_score(y_test, y_pred, average = None)\n",
    "recall = metrics.recall_score(y_test, y_pred, average = None)\n",
    "F1_score = metrics.f1_score(y_test, y_pred, average = None)\n",
    "print([accuracy, error, precision, recall, F1_score])"
   ]
  },
  {
   "cell_type": "markdown",
   "metadata": {},
   "source": [
    "**Question 02 (of 06): What can you conclude about the performance of the decision tree classifier?**\n",
    "\n",
    "**Answer:** The performance of the decision tree classifier is good if we see the accuracy score only which is 91%. But the preicison, recall and F1 score indicate a bias towards one of the classes. The precision, recall and F1 score is good for one class and bad for another which clearly indicates an imbalance and the model being biased. The scores indicate a lower value for churn = 1 which is the class we are most interested in. So, the performance is not good."
   ]
  },
  {
   "cell_type": "markdown",
   "metadata": {},
   "source": [
    "### Part 2: k-Nearest Neighbors"
   ]
  },
  {
   "cell_type": "markdown",
   "metadata": {},
   "source": [
    "**Task 06 (of 14): Build a k-nearest neighbors classifier to classify customers as churnend/non-churned.\n",
    "Use _k=3_ as the number of nearest neighbors.**"
   ]
  },
  {
   "cell_type": "code",
   "execution_count": 11,
   "metadata": {},
   "outputs": [
    {
     "data": {
      "text/plain": [
       "KNeighborsClassifier(algorithm='auto', leaf_size=30, metric='minkowski',\n",
       "                     metric_params=None, n_jobs=None, n_neighbors=3, p=2,\n",
       "                     weights='uniform')"
      ]
     },
     "execution_count": 11,
     "metadata": {},
     "output_type": "execute_result"
    }
   ],
   "source": [
    "classifier = KNeighborsClassifier(n_neighbors=3)  \n",
    "classifier.fit(x_train_scaled,y_train)"
   ]
  },
  {
   "cell_type": "markdown",
   "metadata": {},
   "source": [
    "**Task 07 (of 14): Predict the class labels for the test set using the k-nearest neighbors classifier and plot the corresponding confusion matrix.**"
   ]
  },
  {
   "cell_type": "code",
   "execution_count": 12,
   "metadata": {},
   "outputs": [],
   "source": [
    "y_pred = classifier.predict(x_test_scaled)"
   ]
  },
  {
   "cell_type": "code",
   "execution_count": 13,
   "metadata": {},
   "outputs": [
    {
     "data": {
      "image/png": "[encoded data removed]",
      "text/plain": [
       "<Figure size 432x288 with 2 Axes>"
      ]
     },
     "metadata": {
      "needs_background": "light"
     },
     "output_type": "display_data"
    }
   ],
   "source": [
    "conf_matrix = metrics.confusion_matrix(y_test,y_pred)\n",
    "sns.heatmap(conf_matrix, annot = True, fmt = \".3f\", square = True, cmap = plt.cm.Blues)\n",
    "plt.ylabel('Actual')\n",
    "plt.xlabel('Predicted')\n",
    "plt.title('Confusion matrix')\n",
    "plt.tight_layout()"
   ]
  },
  {
   "cell_type": "markdown",
   "metadata": {},
   "source": [
    "**Task 08 (of 14): Compute evaluation metrics for the k-nearest neighbors classifier.**"
   ]
  },
  {
   "cell_type": "code",
   "execution_count": 14,
   "metadata": {},
   "outputs": [
    {
     "name": "stdout",
     "output_type": "stream",
     "text": [
      "[0.9100719424460432, 0.08992805755395683, array([0.92146597, 0.78571429]), array([0.97913769, 0.47826087]), array([0.94942684, 0.59459459])]\n"
     ]
    }
   ],
   "source": [
    "accuracy = metrics.accuracy_score(y_test, y_pred)\n",
    "error = 1 - accuracy\n",
    "precision = metrics.precision_score(y_test, y_pred, average = None)\n",
    "recall = metrics.recall_score(y_test, y_pred, average = None)\n",
    "F1_score = metrics.f1_score(y_test, y_pred, average = None)\n",
    "print([accuracy, error, precision, recall, F1_score])"
   ]
  },
  {
   "cell_type": "markdown",
   "metadata": {},
   "source": [
    "**Question 03 (of 06): What can you conclude about the performance of the k-nearest neighbors classifier? How does it compare to the previous classifier?**\n",
    "\n",
    "**Answer:** The performance of the k-nearest neighbors classifier is good if we see the accuracy score only which is 91%. But the preicison, recall and F1 score indicate a bias towards one of the classes. The precision, recall and F1 score is good for one class and bad for another which clearly indicates an imbalance and the model being biased.\n",
    "\n",
    "The knn model is worse than decision tree in handling the class imbalance which is evident from the recall and precision score."
   ]
  },
  {
   "cell_type": "markdown",
   "metadata": {},
   "source": [
    "### Part 3: Naive Bayes"
   ]
  },
  {
   "cell_type": "markdown",
   "metadata": {},
   "source": [
    "**Task 09 (of 14): Build a Naive Bayes classifier to classify customers as churnend/non-churned.**"
   ]
  },
  {
   "cell_type": "code",
   "execution_count": 15,
   "metadata": {},
   "outputs": [
    {
     "data": {
      "text/plain": [
       "GaussianNB(priors=None, var_smoothing=1e-09)"
      ]
     },
     "execution_count": 15,
     "metadata": {},
     "output_type": "execute_result"
    }
   ],
   "source": [
    "classifier = GaussianNB()  \n",
    "classifier.fit(x_train_scaled,y_train)"
   ]
  },
  {
   "cell_type": "markdown",
   "metadata": {},
   "source": [
    "**Task 10 (of 14): Predict the class labels for the test set using the Naive Bayes classifier and plot the corresponding confusion matrix.**"
   ]
  },
  {
   "cell_type": "code",
   "execution_count": 16,
   "metadata": {},
   "outputs": [],
   "source": [
    "y_pred = classifier.predict(x_test_scaled)"
   ]
  },
  {
   "cell_type": "code",
   "execution_count": 17,
   "metadata": {},
   "outputs": [
    {
     "data": {
      "image/png": "[encoded data removed]",
      "text/plain": [
       "<Figure size 432x288 with 2 Axes>"
      ]
     },
     "metadata": {
      "needs_background": "light"
     },
     "output_type": "display_data"
    }
   ],
   "source": [
    "conf_matrix = metrics.confusion_matrix(y_test,y_pred)\n",
    "sns.heatmap(conf_matrix, annot = True, fmt = \".3f\", square = True, cmap = plt.cm.Blues)\n",
    "plt.ylabel('Actual')\n",
    "plt.xlabel('Predicted')\n",
    "plt.title('Confusion matrix')\n",
    "plt.tight_layout()"
   ]
  },
  {
   "cell_type": "markdown",
   "metadata": {},
   "source": [
    "**Task 11 (of 14): Compute evaluation metrics for the Naive Bayes classifier.**"
   ]
  },
  {
   "cell_type": "code",
   "execution_count": 18,
   "metadata": {},
   "outputs": [
    {
     "name": "stdout",
     "output_type": "stream",
     "text": [
      "[0.8621103117505995, 0.1378896882494005, array([0.93142857, 0.5       ]), array([0.90681502, 0.5826087 ]), array([0.91895701, 0.53815261])]\n"
     ]
    }
   ],
   "source": [
    "accuracy = metrics.accuracy_score(y_test, y_pred)\n",
    "error = 1 - accuracy\n",
    "precision = metrics.precision_score(y_test, y_pred, average = None)\n",
    "recall = metrics.recall_score(y_test, y_pred, average = None)\n",
    "F1_score = metrics.f1_score(y_test, y_pred, average = None)\n",
    "print([accuracy, error, precision, recall, F1_score])"
   ]
  },
  {
   "cell_type": "markdown",
   "metadata": {},
   "source": [
    "**Question 04 (of 06): What can you conclude about the performance of the Naive Bayes classifier? How does it compare to the previous classifiers?**\n",
    "\n",
    "**Answer:** The performance of the Naive Bayes classifier is decent if we see the accuracy score only which is 86%. But the precision, recall and F1 score indicate a bias towards one of the classes. The precision, recall and F1 score is good for one class and bad for another which clearly indicates an imbalance and the model being biased.\n",
    "\n",
    "The naive bayes model is worse than decision tree and knn model in terms of the accuracy, precision and F1 score but better in terms of the recall of the minority class."
   ]
  },
  {
   "cell_type": "markdown",
   "metadata": {},
   "source": [
    "### Part 4: Support Vector Machines"
   ]
  },
  {
   "cell_type": "markdown",
   "metadata": {},
   "source": [
    "**Task 12 (of 14): Build an SVM classifier to classify customers as churnend/non-churned.\n",
    "Use _rbf_ (radial basis function) as the kernel function.**"
   ]
  },
  {
   "cell_type": "code",
   "execution_count": 19,
   "metadata": {},
   "outputs": [
    {
     "data": {
      "text/plain": [
       "SVC(C=1.0, break_ties=False, cache_size=200, class_weight=None, coef0=0.0,\n",
       "    decision_function_shape='ovr', degree=3, gamma='scale', kernel='rbf',\n",
       "    max_iter=-1, probability=False, random_state=None, shrinking=True,\n",
       "    tol=0.001, verbose=False)"
      ]
     },
     "execution_count": 19,
     "metadata": {},
     "output_type": "execute_result"
    }
   ],
   "source": [
    "classifier = SVC(kernel=\"rbf\")  \n",
    "classifier.fit(x_train_scaled,y_train)"
   ]
  },
  {
   "cell_type": "markdown",
   "metadata": {},
   "source": [
    "**Task 13 (of 14): Predict the class labels for the test set using the SVM classifier and plot the corresponding confusion matrix.**"
   ]
  },
  {
   "cell_type": "code",
   "execution_count": 20,
   "metadata": {},
   "outputs": [],
   "source": [
    "y_pred = classifier.predict(x_test_scaled)"
   ]
  },
  {
   "cell_type": "code",
   "execution_count": 21,
   "metadata": {},
   "outputs": [
    {
     "data": {
      "image/png": "[encoded data removed]",
      "text/plain": [
       "<Figure size 432x288 with 2 Axes>"
      ]
     },
     "metadata": {
      "needs_background": "light"
     },
     "output_type": "display_data"
    }
   ],
   "source": [
    "conf_matrix = metrics.confusion_matrix(y_test,y_pred)\n",
    "sns.heatmap(conf_matrix, annot = True, fmt = \".3f\", square = True, cmap = plt.cm.Blues)\n",
    "plt.ylabel('Actual')\n",
    "plt.xlabel('Predicted')\n",
    "plt.title('Confusion matrix')\n",
    "plt.tight_layout()"
   ]
  },
  {
   "cell_type": "markdown",
   "metadata": {},
   "source": [
    "**Task 14 (of 14): Compute evaluation metrics for the SVM classifier.**"
   ]
  },
  {
   "cell_type": "code",
   "execution_count": 22,
   "metadata": {},
   "outputs": [
    {
     "ename": "SyntaxError",
     "evalue": "invalid syntax (<ipython-input-22-21398459c110>, line 1)",
     "output_type": "error",
     "traceback": [
      "\u001b[1;36m  File \u001b[1;32m\"<ipython-input-22-21398459c110>\"\u001b[1;36m, line \u001b[1;32m1\u001b[0m\n\u001b[1;33m    - + - - + - + - - - + + - + - - - + + +\u001b[0m\n\u001b[1;37m                                           ^\u001b[0m\n\u001b[1;31mSyntaxError\u001b[0m\u001b[1;31m:\u001b[0m invalid syntax\n"
     ]
    }
   ],
   "source": [
    "- + - - + - + - - - + + - + - - - + + +"
   ]
  },
  {
   "cell_type": "code",
   "execution_count": null,
   "metadata": {},
   "outputs": [],
   "source": [
    "y_test = [0,1,0,1,1,1,0,0,1,0,1,0,0,1,0,0,1,1,0,1]\n",
    "y_pred = [0,1,0,0,1,0,1,0,0,0,1,1,0,1,0,0,0,1,1,1]"
   ]
  },
  {
   "cell_type": "code",
   "execution_count": null,
   "metadata": {},
   "outputs": [],
   "source": [
    "len(y_test)"
   ]
  },
  {
   "cell_type": "code",
   "execution_count": null,
   "metadata": {},
   "outputs": [],
   "source": [
    "conf_matrix = metrics.confusion_matrix(y_test,y_pred)\n",
    "sns.heatmap(conf_matrix, annot = True, fmt = \".3f\", square = True, cmap = plt.cm.Blues)\n",
    "plt.ylabel('Actual')\n",
    "plt.xlabel('Predicted')\n",
    "plt.title('Confusion matrix')\n",
    "plt.tight_layout()"
   ]
  },
  {
   "cell_type": "code",
   "execution_count": null,
   "metadata": {},
   "outputs": [],
   "source": [
    "accuracy = metrics.accuracy_score(y_test, y_pred)\n",
    "error = 1 - accuracy\n",
    "precision = metrics.precision_score(y_test, y_pred, average = None)\n",
    "recall = metrics.recall_score(y_test, y_pred, average = None)\n",
    "F1_score = metrics.f1_score(y_test, y_pred, average = None)\n",
    "print([accuracy, error, precision, recall, F1_score])"
   ]
  },
  {
   "cell_type": "markdown",
   "metadata": {},
   "source": [
    "**Question 05 (of 06): What can you conclude about the performance of the SVM classifier? How does it compare to the previous classifiers?**\n",
    "\n",
    "**Answer:** The performance of the SVM classifier is pretty good if we see the accuracy score only which is 92.6%. The preicison for both the classes is also pretty good. But the recall and F1 score indicate a bias towards one of the classes. The recall and F1 score is good for one class and bad for another which indicates a slight imbalance and the model being biased.\n",
    "\n",
    "The SVM classifier is better than the Naive bayes, decision tree and Knn models in pretty much all the accuracy metrics."
   ]
  },
  {
   "cell_type": "markdown",
   "metadata": {},
   "source": [
    "**Question 06 (of 06): Which of the classifiers had the best performance?**\n",
    "\n",
    "**Answer:** The `SVC with rbf kernel` has the best performance out of all the models. That is because of a good overall accuracy and better precision, recall and F1 score for both the classes as compared to the other models."
   ]
  }
 ],
 "metadata": {
  "kernelspec": {
   "display_name": "Python 3",
   "language": "python",
   "name": "python3"
  },
  "language_info": {
   "codemirror_mode": {
    "name": "ipython",
    "version": 3
   },
   "file_extension": ".py",
   "mimetype": "text/x-python",
   "name": "python",
   "nbconvert_exporter": "python",
   "pygments_lexer": "ipython3",
   "version": "3.7.5"
  }
 },
 "nbformat": 4,
 "nbformat_minor": 2
}
